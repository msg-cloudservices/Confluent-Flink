{
 "cells": [
  {
   "cell_type": "code",
   "execution_count": null,
   "metadata": {
    "vscode": {
     "languageId": "plaintext"
    }
   },
   "outputs": [],
   "source": [
    "CREATE MODEL `flink-streaming`.`flink-streamer`.`frauddetection_json`\n",
    "  INPUT (jsonInput STRING)\n",
    "  OUTPUT (isFraud INT)\n",
    "  WITH(\n",
    "  'provider' = 'azureml',\n",
    "  'task' = 'classification',\n",
    "  'azureml.connection' = 'my-fraud')"
   ]
  },
  {
   "cell_type": "code",
   "execution_count": null,
   "metadata": {
    "vscode": {
     "languageId": "plaintext"
    }
   },
   "outputs": [],
   "source": [
    "SELECT * FROM `flink-streaming`.`flink-streamer`.`transformed_records_json`, LATERAL TABLE(ML_PREDICT('frauddetection_json', InputJson))"
   ]
  },
  {
   "cell_type": "markdown",
   "metadata": {},
   "source": [
    "#### In case you have only <= 84 features, you can use the following code instead.\n",
    "Note: Confluent currently only supports an input of max 84 features. A higher input will result in an \"Internal Error\"."
   ]
  },
  {
   "cell_type": "code",
   "execution_count": null,
   "metadata": {
    "vscode": {
     "languageId": "plaintext"
    }
   },
   "outputs": [],
   "source": [
    "CREATE MODEL `flink-streaming`.`flink-streamer`.`testmodel84`\n",
    "  INPUT (TransactionID FLOAT, \n",
    "TransactionDT FLOAT, \n",
    "TransactionAmt FLOAT, \n",
    "ProductCD STRING, \n",
    "card1 FLOAT,\n",
    "card2 FLOAT,\n",
    "card3 FLOAT,\n",
    "card4 STRING,\n",
    "card5 FLOAT,\n",
    "card6 STRING,\n",
    "addr1 FLOAT,\n",
    "addr2 FLOAT,\n",
    "P_emaildomain STRING,\n",
    "C1 FLOAT,\n",
    "C2 FLOAT,\n",
    "C3 FLOAT,\n",
    "C4 FLOAT,\n",
    "C5 FLOAT,\n",
    "C6 FLOAT,\n",
    "C7 FLOAT,\n",
    "C8 FLOAT,\n",
    "C9 FLOAT,\n",
    "C10 FLOAT,\n",
    "C11 FLOAT,\n",
    "C12 FLOAT,\n",
    "C13 FLOAT,\n",
    "C14 FLOAT,\n",
    "D1 FLOAT,\n",
    "D4 FLOAT,\n",
    "D10 FLOAT,\n",
    "D15 FLOAT,\n",
    "M6 STRING,\n",
    "V12 FLOAT,\n",
    "V13 FLOAT,\n",
    "V14 FLOAT,\n",
    "V15 FLOAT,\n",
    "V16 FLOAT,\n",
    "V17 FLOAT,\n",
    "V18 FLOAT,\n",
    "V19 FLOAT,\n",
    "V20 FLOAT,\n",
    "V21 FLOAT,\n",
    "V22 FLOAT,\n",
    "V23 FLOAT,\n",
    "V24 FLOAT,\n",
    "V25 FLOAT,\n",
    "V26 FLOAT,\n",
    "V27 FLOAT,\n",
    "V28 FLOAT,\n",
    "V29 FLOAT,\n",
    "V30 FLOAT,\n",
    "V31 FLOAT,\n",
    "V32 FLOAT,\n",
    "V33 FLOAT,\n",
    "V34 FLOAT,\n",
    "V35 FLOAT,\n",
    "V36 FLOAT,\n",
    "V37 FLOAT,\n",
    "V38 FLOAT,\n",
    "V39 FLOAT,\n",
    "V40 FLOAT,\n",
    "V41 FLOAT,\n",
    "V42 FLOAT,\n",
    "V43 FLOAT,\n",
    "V44 FLOAT,\n",
    "V45 FLOAT,\n",
    "V46 FLOAT,\n",
    "V47 FLOAT,\n",
    "V48 FLOAT,\n",
    "V49 FLOAT,\n",
    "V50 FLOAT,\n",
    "V51 FLOAT,\n",
    "V52 FLOAT,\n",
    "V53 FLOAT,\n",
    "V54 FLOAT,\n",
    "V55 FLOAT,\n",
    "V56 FLOAT,\n",
    "V57 FLOAT,\n",
    "V58 FLOAT,\n",
    "V59 FLOAT,\n",
    "V60 FLOAT,\n",
    "V61 FLOAT,\n",
    "V62 FLOAT,\n",
    "V63 FLOAT)\n",
    "OUTPUT (isFraud INT)\n",
    "  WITH(\n",
    "  'provider' = 'azureml',\n",
    "  'task' = 'classification',\n",
    "  'azureml.connection' = 'my-fraud')"
   ]
  },
  {
   "cell_type": "code",
   "execution_count": null,
   "metadata": {
    "vscode": {
     "languageId": "plaintext"
    }
   },
   "outputs": [],
   "source": [
    "SELECT * FROM `flink-streaming`.`flink-streamer`.`transformed_records`, LATERAL TABLE(ML_PREDICT('testmodel84', TransactionID, TransactionDT, TransactionAmt, ProductCD, card1, card2, card3, card4, card5, card6, addr1, addr2, P_emaildomain, C1, C2, C3, C4, C5, C6, C7, C8, C9, C10, C11, C12, C13, C14, D1, D4, D10, D15, M6, V12, V13, V14, V15, V16, V17, V18, V19, V20, V21, V22, V23, V24, V25, V26, V27, V28, V29, V30, V31, V32, V33, V34, V35, V36, V37, V38, V39, V40, V41, V42, V43, V44, V45, V46, V47, V48, V49, V50, V51, V52, V53, V54, V55, V56, V57, V58, V59, V60, V61, V62, V63))"
   ]
  }
 ],
 "metadata": {
  "language_info": {
   "name": "python"
  }
 },
 "nbformat": 4,
 "nbformat_minor": 2
}
